{
 "cells": [
  {
   "cell_type": "code",
   "execution_count": 3,
   "id": "initial_id",
   "metadata": {
    "collapsed": true,
    "ExecuteTime": {
     "end_time": "2024-01-28T20:46:55.364750Z",
     "start_time": "2024-01-28T20:46:55.345568Z"
    }
   },
   "outputs": [],
   "source": [
    "import pandas as pd\n",
    "from math import atan2, degrees"
   ]
  },
  {
   "cell_type": "code",
   "outputs": [],
   "source": [
    "data = pd.read_parquet(\"G:/My Drive/שנה ב/פרויקט מעבדה/front_head_only_resnet_152__top_20240103T103519.parquet\")\n",
    "data = data.iloc[:,0:13]"
   ],
   "metadata": {
    "collapsed": false,
    "ExecuteTime": {
     "end_time": "2024-01-28T20:46:59.152204100Z",
     "start_time": "2024-01-28T20:46:57.474849800Z"
    }
   },
   "id": "723e8bc53f0c25e5",
   "execution_count": 4
  },
  {
   "cell_type": "code",
   "outputs": [],
   "source": [
    "def calculate_direction(x_ears, y_ears, x_nose, y_nose):\n",
    "    delta_x = x_ears - x_nose\n",
    "    delta_y = y_ears - y_nose\n",
    "    \n",
    "    # Calculate direction angle using arctangent\n",
    "    angle_rad = atan2(delta_y, delta_x)\n",
    "\n",
    "    # Convert angle from radians to degrees\n",
    "    direction_angle = degrees(angle_rad)\n",
    "\n",
    "    # Normalize the angle to be in the range [0, 360)\n",
    "    direction_angle = (direction_angle + 360) % 360\n",
    "\n",
    "    return direction_angle"
   ],
   "metadata": {
    "collapsed": false,
    "ExecuteTime": {
     "end_time": "2024-01-28T20:47:04.044928900Z",
     "start_time": "2024-01-28T20:47:04.009816800Z"
    }
   },
   "id": "5309f21f6312153f",
   "execution_count": 5
  },
  {
   "cell_type": "code",
   "outputs": [],
   "source": [
    "azimuth_angle_lst = []\n",
    "for i in range(len(data)):\n",
    "    x_ears = data['mid_ears', 'cam_x'][i]\n",
    "    y_ears = data['mid_ears', 'cam_y'][i]\n",
    "    x_nose = data['nose', 'cam_x'][i]\n",
    "    y_nose = data['nose', 'cam_y'][i]\n",
    "    azimuth_angle_lst.append(calculate_direction(x_ears, y_ears, x_nose, y_nose))\n",
    "\n",
    "data['azimuth_angle'] = azimuth_angle_lst"
   ],
   "metadata": {
    "collapsed": false,
    "ExecuteTime": {
     "end_time": "2024-01-28T20:47:07.441862400Z",
     "start_time": "2024-01-28T20:47:05.467217Z"
    }
   },
   "id": "3740a0e33bbbb177",
   "execution_count": 6
  },
  {
   "cell_type": "code",
   "outputs": [
    {
     "data": {
      "text/plain": "         left_ear                          mid_ears                        \\\n            cam_x       cam_y      prob       cam_x       cam_y      prob   \n0      217.995560  603.225281  0.996496  224.177246  573.029297  0.996017   \n1      218.083710  603.354797  0.996787  224.355301  573.049927  0.995957   \n2      218.388214  603.366150  0.996721  224.385757  573.124573  0.995933   \n3      218.343658  603.411804  0.996879  224.449982  573.111328  0.995997   \n4      218.272507  603.337585  0.997007  224.335236  573.111206  0.996428   \n...           ...         ...       ...         ...         ...       ...   \n18406  208.320984  554.276733  0.972703  207.853989  525.996643  0.977414   \n18407  208.356583  554.148132  0.972446  207.889740  525.923889  0.977019   \n18408  208.342865  554.177246  0.970373  207.901688  525.953918  0.976052   \n18409  208.409058  554.175537  0.969821  207.913193  525.947510  0.975960   \n18410  201.142242  551.486572  0.998919  207.049255  523.416809  0.998759   \n\n              nose                          right_ear                        \\\n             cam_x        cam_y      prob       cam_x       cam_y      prob   \n0      1193.508667  1012.812195  0.969148  230.358917  542.833313  0.995537   \n1      1193.516113  1012.767029  0.971888  230.626892  542.745117  0.995126   \n2      1193.454834  1012.724182  0.971763  230.383301  542.882996  0.995146   \n3      1193.522949  1012.768677  0.972229  230.556290  542.810913  0.995114   \n4      1193.549683  1012.830017  0.971937  230.397964  542.884888  0.995849   \n...            ...          ...       ...         ...         ...       ...   \n18406  1193.485352  1012.838928  0.927187  207.386993  497.716583  0.982125   \n18407  1193.500122  1012.846130  0.929073  207.422882  497.699677  0.981591   \n18408  1193.480591  1012.841858  0.928149  207.460510  497.730560  0.981731   \n18409  1193.489746  1012.842041  0.928060  207.417328  497.719543  0.982099   \n18410  1193.592529  1012.878052  0.928386  212.956253  495.347046  0.998599   \n\n               time azimuth_angle  \n                                   \n0      1.704278e+09    204.403660  \n1      1.704278e+09    204.404229  \n2      1.704278e+09    204.400509  \n3      1.704278e+09    204.403253  \n4      1.704278e+09    204.403119  \n...             ...           ...  \n18406  1.704278e+09    206.286587  \n18407  1.704278e+09    206.290808  \n18408  1.704278e+09    206.289931  \n18409  1.704278e+09    206.290294  \n18410  1.704278e+09    206.387740  \n\n[18411 rows x 14 columns]",
      "text/html": "<div>\n<style scoped>\n    .dataframe tbody tr th:only-of-type {\n        vertical-align: middle;\n    }\n\n    .dataframe tbody tr th {\n        vertical-align: top;\n    }\n\n    .dataframe thead tr th {\n        text-align: left;\n    }\n</style>\n<table border=\"1\" class=\"dataframe\">\n  <thead>\n    <tr>\n      <th></th>\n      <th colspan=\"3\" halign=\"left\">left_ear</th>\n      <th colspan=\"3\" halign=\"left\">mid_ears</th>\n      <th colspan=\"3\" halign=\"left\">nose</th>\n      <th colspan=\"3\" halign=\"left\">right_ear</th>\n      <th>time</th>\n      <th>azimuth_angle</th>\n    </tr>\n    <tr>\n      <th></th>\n      <th>cam_x</th>\n      <th>cam_y</th>\n      <th>prob</th>\n      <th>cam_x</th>\n      <th>cam_y</th>\n      <th>prob</th>\n      <th>cam_x</th>\n      <th>cam_y</th>\n      <th>prob</th>\n      <th>cam_x</th>\n      <th>cam_y</th>\n      <th>prob</th>\n      <th></th>\n      <th></th>\n    </tr>\n  </thead>\n  <tbody>\n    <tr>\n      <th>0</th>\n      <td>217.995560</td>\n      <td>603.225281</td>\n      <td>0.996496</td>\n      <td>224.177246</td>\n      <td>573.029297</td>\n      <td>0.996017</td>\n      <td>1193.508667</td>\n      <td>1012.812195</td>\n      <td>0.969148</td>\n      <td>230.358917</td>\n      <td>542.833313</td>\n      <td>0.995537</td>\n      <td>1.704278e+09</td>\n      <td>204.403660</td>\n    </tr>\n    <tr>\n      <th>1</th>\n      <td>218.083710</td>\n      <td>603.354797</td>\n      <td>0.996787</td>\n      <td>224.355301</td>\n      <td>573.049927</td>\n      <td>0.995957</td>\n      <td>1193.516113</td>\n      <td>1012.767029</td>\n      <td>0.971888</td>\n      <td>230.626892</td>\n      <td>542.745117</td>\n      <td>0.995126</td>\n      <td>1.704278e+09</td>\n      <td>204.404229</td>\n    </tr>\n    <tr>\n      <th>2</th>\n      <td>218.388214</td>\n      <td>603.366150</td>\n      <td>0.996721</td>\n      <td>224.385757</td>\n      <td>573.124573</td>\n      <td>0.995933</td>\n      <td>1193.454834</td>\n      <td>1012.724182</td>\n      <td>0.971763</td>\n      <td>230.383301</td>\n      <td>542.882996</td>\n      <td>0.995146</td>\n      <td>1.704278e+09</td>\n      <td>204.400509</td>\n    </tr>\n    <tr>\n      <th>3</th>\n      <td>218.343658</td>\n      <td>603.411804</td>\n      <td>0.996879</td>\n      <td>224.449982</td>\n      <td>573.111328</td>\n      <td>0.995997</td>\n      <td>1193.522949</td>\n      <td>1012.768677</td>\n      <td>0.972229</td>\n      <td>230.556290</td>\n      <td>542.810913</td>\n      <td>0.995114</td>\n      <td>1.704278e+09</td>\n      <td>204.403253</td>\n    </tr>\n    <tr>\n      <th>4</th>\n      <td>218.272507</td>\n      <td>603.337585</td>\n      <td>0.997007</td>\n      <td>224.335236</td>\n      <td>573.111206</td>\n      <td>0.996428</td>\n      <td>1193.549683</td>\n      <td>1012.830017</td>\n      <td>0.971937</td>\n      <td>230.397964</td>\n      <td>542.884888</td>\n      <td>0.995849</td>\n      <td>1.704278e+09</td>\n      <td>204.403119</td>\n    </tr>\n    <tr>\n      <th>...</th>\n      <td>...</td>\n      <td>...</td>\n      <td>...</td>\n      <td>...</td>\n      <td>...</td>\n      <td>...</td>\n      <td>...</td>\n      <td>...</td>\n      <td>...</td>\n      <td>...</td>\n      <td>...</td>\n      <td>...</td>\n      <td>...</td>\n      <td>...</td>\n    </tr>\n    <tr>\n      <th>18406</th>\n      <td>208.320984</td>\n      <td>554.276733</td>\n      <td>0.972703</td>\n      <td>207.853989</td>\n      <td>525.996643</td>\n      <td>0.977414</td>\n      <td>1193.485352</td>\n      <td>1012.838928</td>\n      <td>0.927187</td>\n      <td>207.386993</td>\n      <td>497.716583</td>\n      <td>0.982125</td>\n      <td>1.704278e+09</td>\n      <td>206.286587</td>\n    </tr>\n    <tr>\n      <th>18407</th>\n      <td>208.356583</td>\n      <td>554.148132</td>\n      <td>0.972446</td>\n      <td>207.889740</td>\n      <td>525.923889</td>\n      <td>0.977019</td>\n      <td>1193.500122</td>\n      <td>1012.846130</td>\n      <td>0.929073</td>\n      <td>207.422882</td>\n      <td>497.699677</td>\n      <td>0.981591</td>\n      <td>1.704278e+09</td>\n      <td>206.290808</td>\n    </tr>\n    <tr>\n      <th>18408</th>\n      <td>208.342865</td>\n      <td>554.177246</td>\n      <td>0.970373</td>\n      <td>207.901688</td>\n      <td>525.953918</td>\n      <td>0.976052</td>\n      <td>1193.480591</td>\n      <td>1012.841858</td>\n      <td>0.928149</td>\n      <td>207.460510</td>\n      <td>497.730560</td>\n      <td>0.981731</td>\n      <td>1.704278e+09</td>\n      <td>206.289931</td>\n    </tr>\n    <tr>\n      <th>18409</th>\n      <td>208.409058</td>\n      <td>554.175537</td>\n      <td>0.969821</td>\n      <td>207.913193</td>\n      <td>525.947510</td>\n      <td>0.975960</td>\n      <td>1193.489746</td>\n      <td>1012.842041</td>\n      <td>0.928060</td>\n      <td>207.417328</td>\n      <td>497.719543</td>\n      <td>0.982099</td>\n      <td>1.704278e+09</td>\n      <td>206.290294</td>\n    </tr>\n    <tr>\n      <th>18410</th>\n      <td>201.142242</td>\n      <td>551.486572</td>\n      <td>0.998919</td>\n      <td>207.049255</td>\n      <td>523.416809</td>\n      <td>0.998759</td>\n      <td>1193.592529</td>\n      <td>1012.878052</td>\n      <td>0.928386</td>\n      <td>212.956253</td>\n      <td>495.347046</td>\n      <td>0.998599</td>\n      <td>1.704278e+09</td>\n      <td>206.387740</td>\n    </tr>\n  </tbody>\n</table>\n<p>18411 rows × 14 columns</p>\n</div>"
     },
     "execution_count": 7,
     "metadata": {},
     "output_type": "execute_result"
    }
   ],
   "source": [
    "data"
   ],
   "metadata": {
    "collapsed": false,
    "ExecuteTime": {
     "end_time": "2024-01-28T20:47:08.550285100Z",
     "start_time": "2024-01-28T20:47:08.491879200Z"
    }
   },
   "id": "3108b59766d1f17b",
   "execution_count": 7
  }
 ],
 "metadata": {
  "kernelspec": {
   "display_name": "Python 3",
   "language": "python",
   "name": "python3"
  },
  "language_info": {
   "codemirror_mode": {
    "name": "ipython",
    "version": 2
   },
   "file_extension": ".py",
   "mimetype": "text/x-python",
   "name": "python",
   "nbconvert_exporter": "python",
   "pygments_lexer": "ipython2",
   "version": "2.7.6"
  }
 },
 "nbformat": 4,
 "nbformat_minor": 5
}
