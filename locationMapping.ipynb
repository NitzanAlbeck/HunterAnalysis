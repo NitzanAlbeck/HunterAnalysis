{
 "cells": [
  {
   "cell_type": "code",
   "execution_count": 113,
   "id": "initial_id",
   "metadata": {
    "collapsed": true,
    "ExecuteTime": {
     "end_time": "2024-02-21T12:03:32.405930300Z",
     "start_time": "2024-02-21T12:03:32.301073200Z"
    }
   },
   "outputs": [],
   "source": [
    "import pandas as pd\n",
    "from math import atan2, degrees\n",
    "import matplotlib.pyplot as plt\n",
    "import numpy as np\n",
    "from scipy.io import loadmat"
   ]
  },
  {
   "cell_type": "code",
   "outputs": [],
   "source": [
    "# Loading the parquet data\n",
    "parquet_data = pd.read_parquet('G:/My Drive/שנה ב/פרויקט מעבדה/StatesAnalysis/block3\\predictions/front_head_only_resnet_152__top_20240117T141218.parquet', engine='fastparquet')\n",
    "parquet_data = parquet_data.iloc[:,0:13]"
   ],
   "metadata": {
    "collapsed": false,
    "ExecuteTime": {
     "end_time": "2024-02-21T12:32:49.202798600Z",
     "start_time": "2024-02-21T12:32:49.090485100Z"
    }
   },
   "id": "723e8bc53f0c25e5",
   "execution_count": 143
  },
  {
   "cell_type": "code",
   "outputs": [],
   "source": [
    "# Calculate the angle of the head compared to the screen\n",
    "def calculate_direction(x_ears, y_ears, x_nose, y_nose):\n",
    "    delta_x = x_ears - x_nose\n",
    "    delta_y = y_ears - y_nose\n",
    "    \n",
    "    # Calculate direction angle using arctangent\n",
    "    angle_rad = atan2(delta_y, delta_x)\n",
    "\n",
    "    # Convert angle from radians to degrees\n",
    "    direction_angle = degrees(angle_rad)\n",
    "\n",
    "    # Normalize the angle to be in the range [0, 360)\n",
    "    direction_angle = (direction_angle + 360) % 360\n",
    "\n",
    "    return direction_angle"
   ],
   "metadata": {
    "collapsed": false,
    "ExecuteTime": {
     "end_time": "2024-02-21T12:33:05.122519300Z",
     "start_time": "2024-02-21T12:33:05.113962500Z"
    }
   },
   "id": "5309f21f6312153f",
   "execution_count": 145
  },
  {
   "cell_type": "code",
   "outputs": [],
   "source": [
    "# Creating the azimuth data from the parquet\n",
    "def azimuth_creator(data):\n",
    "    azimuth_angle_lst = []\n",
    "    for i in range(len(data)):\n",
    "        x_ears = data['mid_ears', 'cam_x'][i]\n",
    "        y_ears = data['mid_ears', 'cam_y'][i]\n",
    "        x_nose = data['nose', 'cam_x'][i]\n",
    "        y_nose = data['nose', 'cam_y'][i]\n",
    "        azimuth_angle_lst.append(calculate_direction(x_ears, y_ears, x_nose, y_nose))\n",
    "    \n",
    "    data['azimuth_angle'] = azimuth_angle_lst"
   ],
   "metadata": {
    "collapsed": false,
    "ExecuteTime": {
     "end_time": "2024-02-21T12:33:05.444221400Z",
     "start_time": "2024-02-21T12:33:05.412825Z"
    }
   },
   "id": "3740a0e33bbbb177",
   "execution_count": 146
  },
  {
   "cell_type": "code",
   "outputs": [],
   "source": [
    "# Executing the function on the parquet data\n",
    "azimuth_creator(parquet_data)"
   ],
   "metadata": {
    "collapsed": false
   },
   "id": "8f9d1d2704e25eba"
  },
  {
   "cell_type": "code",
   "outputs": [],
   "source": [
    "# Loading the bug appearance frames from matlab (indicates on start and end of trial)\n",
    "mat = loadmat('frames.mat')\n",
    "frames = mat['frames']\n",
    "frames = np.ndarray.tolist(frames)\n",
    "start_frames = frames[0][0][0]\n",
    "start_frames = np.ndarray.tolist(start_frames)\n",
    "start_frames_lst = []\n",
    "end_frames = frames[0][0][1]\n",
    "end_frames_lst = []\n",
    "for i in range(len(start_frames)):\n",
    "    start_frames_lst.append(start_frames[i][0])\n",
    "    end_frames_lst.append(end_frames[i][0])\n",
    "frames_dict = {'Start': start_frames_lst, 'End': end_frames_lst}\n",
    "frames_df = pd.DataFrame.from_dict(frames_dict)"
   ],
   "metadata": {
    "collapsed": false,
    "ExecuteTime": {
     "end_time": "2024-02-21T13:46:17.736089600Z",
     "start_time": "2024-02-21T13:46:17.631566400Z"
    }
   },
   "id": "b1f69ac468abce",
   "execution_count": 208
  },
  {
   "cell_type": "code",
   "outputs": [],
   "source": [
    "# Loading the videoFrames data from matlab\n",
    "arena_mat = loadmat('arenaCSV.mat')\n",
    "arena_struct = arena_mat['CSV']\n",
    "videoFrames = arena_struct['videoFrames'][0, 0]\n",
    "videoFrames_data = pd.DataFrame(videoFrames, columns=['frame_num', 'timestamp'])\n",
    "videoFrames_data['frame_num'] = videoFrames_data['frame_num'].apply(np.int64)"
   ],
   "metadata": {
    "collapsed": false,
    "ExecuteTime": {
     "end_time": "2024-02-21T13:29:33.028392700Z",
     "start_time": "2024-02-21T13:29:32.895369900Z"
    }
   },
   "id": "7d079bfde4adf6dd",
   "execution_count": 191
  },
  {
   "cell_type": "code",
   "outputs": [],
   "source": [
    "parquet_data['frame_num'] = list(videoFrames_data['frame_num'])"
   ],
   "metadata": {
    "collapsed": false,
    "ExecuteTime": {
     "end_time": "2024-02-22T14:33:35.906395700Z",
     "start_time": "2024-02-22T14:33:35.817987900Z"
    }
   },
   "id": "de1cbe4a3153e47f",
   "execution_count": 306
  },
  {
   "cell_type": "code",
   "outputs": [],
   "source": [
    "# Dividing the parquet data into trials\n",
    "trials_lst = []\n",
    "for index, row in frames_df.iterrows():\n",
    "    trials_lst.append(parquet_data.loc[row[0] - 60:row[1] + 60])\n",
    "\n",
    "# Setting time from zero column\n",
    "for trial in trials_lst:\n",
    "    time_diff = list(trial['time'].diff())\n",
    "    time_diff[0] = 0\n",
    "    time_from_zero = np.cumsum(time_diff)\n",
    "    trial['time_from_zero'] = time_from_zero"
   ],
   "metadata": {
    "collapsed": false
   },
   "id": "6988910a50ad03fc",
   "execution_count": null
  },
  {
   "cell_type": "code",
   "outputs": [],
   "source": [
    "# Creating subplots of the azimuth data for each trial\n",
    "fig, ax = plt.subplots(len(trials_lst), figsize=(10,138))\n",
    "for i, trial in enumerate(trials_lst):\n",
    "    ax[i].plot(trial['time_from_zero'], trial['azimuth_angle'])\n",
    "    ax[i].set_title(f'Trial num {i+1}')\n",
    "    x_start = trial['time_from_zero'].iloc[60]\n",
    "    y_start = np.linspace(min(trial['azimuth_angle']), max(trial['azimuth_angle']), len(trial['time_from_zero']))\n",
    "    x_end = trial['time_from_zero'].iloc[-60]\n",
    "    y_end = np.linspace(min(trial['azimuth_angle']), max(trial['azimuth_angle']), len(trial['time_from_zero']))\n",
    "    ax[i].plot([x_start] * len(y_start), y_start, color='red', linestyle='--')\n",
    "    ax[i].plot([x_end] * len(y_end), y_end, color='red', linestyle='--')\n",
    "    \n",
    "plt.subplots_adjust(hspace=0.5)\n",
    "plt.show()"
   ],
   "metadata": {
    "collapsed": false
   },
   "id": "efd02197938cb971",
   "execution_count": null
  },
  {
   "cell_type": "code",
   "outputs": [],
   "source": [
    "# Creating subplots of the distance from screen for each trial\n",
    "fig, ax = plt.subplots(len(trials_lst), figsize=(10,138))\n",
    "for i, trial in enumerate(trials_lst):\n",
    "    ax[i].plot(trial['time_from_zero'], trial['nose', 'cam_x'])\n",
    "    ax[i].set_title(f'Trial num {i+1}')\n",
    "    x_start = trial['time_from_zero'].iloc[60]\n",
    "    y_start = np.linspace(min(trial['nose', 'cam_x']), max(trial['nose', 'cam_x']), len(trial['time_from_zero']))\n",
    "    x_end = trial['time_from_zero'].iloc[-60]\n",
    "    y_end = np.linspace(min(trial['nose', 'cam_x']), max(trial['nose', 'cam_x']), len(trial['time_from_zero']))\n",
    "    ax[i].plot([x_start] * len(y_start), y_start, color='red', linestyle='--')\n",
    "    ax[i].plot([x_end] * len(y_end), y_end, color='red', linestyle='--')\n",
    "    \n",
    "plt.subplots_adjust(hspace=0.5)\n",
    "plt.show()"
   ],
   "metadata": {
    "collapsed": false
   },
   "id": "eec7c3b1ba5dc239",
   "execution_count": null
  }
 ],
 "metadata": {
  "kernelspec": {
   "display_name": "Python 3",
   "language": "python",
   "name": "python3"
  },
  "language_info": {
   "codemirror_mode": {
    "name": "ipython",
    "version": 2
   },
   "file_extension": ".py",
   "mimetype": "text/x-python",
   "name": "python",
   "nbconvert_exporter": "python",
   "pygments_lexer": "ipython2",
   "version": "2.7.6"
  }
 },
 "nbformat": 4,
 "nbformat_minor": 5
}
