{
 "cells": [
  {
   "cell_type": "code",
   "execution_count": 27,
   "id": "initial_id",
   "metadata": {
    "collapsed": true,
    "ExecuteTime": {
     "end_time": "2024-01-29T10:24:40.941668100Z",
     "start_time": "2024-01-29T10:24:36.398987500Z"
    }
   },
   "outputs": [],
   "source": [
    "import pandas as pd\n",
    "from math import atan2, degrees\n",
    "import matplotlib.pyplot as plt"
   ]
  },
  {
   "cell_type": "code",
   "outputs": [],
   "source": [
    "data = pd.read_parquet(\"G:/My Drive/שנה ב/פרויקט מעבדה/front_head_only_resnet_152__top_20240103T103519.parquet\")\n",
    "data = data.iloc[:,0:13]"
   ],
   "metadata": {
    "collapsed": false,
    "ExecuteTime": {
     "end_time": "2024-01-28T20:46:59.152204100Z",
     "start_time": "2024-01-28T20:46:57.474849800Z"
    }
   },
   "id": "723e8bc53f0c25e5",
   "execution_count": 4
  },
  {
   "cell_type": "code",
   "outputs": [],
   "source": [
    "def calculate_direction(x_ears, y_ears, x_nose, y_nose):\n",
    "    delta_x = x_ears - x_nose\n",
    "    delta_y = y_ears - y_nose\n",
    "    \n",
    "    # Calculate direction angle using arctangent\n",
    "    angle_rad = atan2(delta_y, delta_x)\n",
    "\n",
    "    # Convert angle from radians to degrees\n",
    "    direction_angle = degrees(angle_rad)\n",
    "\n",
    "    # Normalize the angle to be in the range [0, 360)\n",
    "    direction_angle = (direction_angle + 360) % 360\n",
    "\n",
    "    return direction_angle"
   ],
   "metadata": {
    "collapsed": false,
    "ExecuteTime": {
     "end_time": "2024-01-28T20:47:04.044928900Z",
     "start_time": "2024-01-28T20:47:04.009816800Z"
    }
   },
   "id": "5309f21f6312153f",
   "execution_count": 5
  },
  {
   "cell_type": "code",
   "outputs": [],
   "source": [
    "azimuth_angle_lst = []\n",
    "for i in range(len(data)):\n",
    "    x_ears = data['mid_ears', 'cam_x'][i]\n",
    "    y_ears = data['mid_ears', 'cam_y'][i]\n",
    "    x_nose = data['nose', 'cam_x'][i]\n",
    "    y_nose = data['nose', 'cam_y'][i]\n",
    "    azimuth_angle_lst.append(calculate_direction(x_ears, y_ears, x_nose, y_nose))\n",
    "\n",
    "data['azimuth_angle'] = azimuth_angle_lst"
   ],
   "metadata": {
    "collapsed": false,
    "ExecuteTime": {
     "end_time": "2024-01-28T20:47:07.441862400Z",
     "start_time": "2024-01-28T20:47:05.467217Z"
    }
   },
   "id": "3740a0e33bbbb177",
   "execution_count": 6
  },
  {
   "cell_type": "code",
   "outputs": [
    {
     "data": {
      "text/plain": "      azimuth_angle          time\n                                 \n0        204.403660  1.704278e+09\n1        204.404229  1.704278e+09\n2        204.400509  1.704278e+09\n3        204.403253  1.704278e+09\n4        204.403119  1.704278e+09\n...             ...           ...\n18406    206.286587  1.704278e+09\n18407    206.290808  1.704278e+09\n18408    206.289931  1.704278e+09\n18409    206.290294  1.704278e+09\n18410    206.387740  1.704278e+09\n\n[18411 rows x 2 columns]",
      "text/html": "<div>\n<style scoped>\n    .dataframe tbody tr th:only-of-type {\n        vertical-align: middle;\n    }\n\n    .dataframe tbody tr th {\n        vertical-align: top;\n    }\n\n    .dataframe thead tr th {\n        text-align: left;\n    }\n</style>\n<table border=\"1\" class=\"dataframe\">\n  <thead>\n    <tr>\n      <th></th>\n      <th>azimuth_angle</th>\n      <th>time</th>\n    </tr>\n    <tr>\n      <th></th>\n      <th></th>\n      <th></th>\n    </tr>\n  </thead>\n  <tbody>\n    <tr>\n      <th>0</th>\n      <td>204.403660</td>\n      <td>1.704278e+09</td>\n    </tr>\n    <tr>\n      <th>1</th>\n      <td>204.404229</td>\n      <td>1.704278e+09</td>\n    </tr>\n    <tr>\n      <th>2</th>\n      <td>204.400509</td>\n      <td>1.704278e+09</td>\n    </tr>\n    <tr>\n      <th>3</th>\n      <td>204.403253</td>\n      <td>1.704278e+09</td>\n    </tr>\n    <tr>\n      <th>4</th>\n      <td>204.403119</td>\n      <td>1.704278e+09</td>\n    </tr>\n    <tr>\n      <th>...</th>\n      <td>...</td>\n      <td>...</td>\n    </tr>\n    <tr>\n      <th>18406</th>\n      <td>206.286587</td>\n      <td>1.704278e+09</td>\n    </tr>\n    <tr>\n      <th>18407</th>\n      <td>206.290808</td>\n      <td>1.704278e+09</td>\n    </tr>\n    <tr>\n      <th>18408</th>\n      <td>206.289931</td>\n      <td>1.704278e+09</td>\n    </tr>\n    <tr>\n      <th>18409</th>\n      <td>206.290294</td>\n      <td>1.704278e+09</td>\n    </tr>\n    <tr>\n      <th>18410</th>\n      <td>206.387740</td>\n      <td>1.704278e+09</td>\n    </tr>\n  </tbody>\n</table>\n<p>18411 rows × 2 columns</p>\n</div>"
     },
     "execution_count": 26,
     "metadata": {},
     "output_type": "execute_result"
    }
   ],
   "source": [
    "head_direction = data[['azimuth_angle', 'time']]\n",
    "head_direction"
   ],
   "metadata": {
    "collapsed": false,
    "ExecuteTime": {
     "end_time": "2024-01-29T10:13:58.705553300Z",
     "start_time": "2024-01-29T10:13:58.529458600Z"
    }
   },
   "id": "3108b59766d1f17b",
   "execution_count": 26
  },
  {
   "cell_type": "code",
   "outputs": [
    {
     "data": {
      "text/plain": "<Figure size 640x480 with 1 Axes>",
      "image/png": "[encoded data removed]"
     },
     "metadata": {},
     "output_type": "display_data"
    }
   ],
   "source": [
    "xpoints = head_direction['time']\n",
    "ypoints = head_direction['azimuth_angle']\n",
    "plt.plot(xpoints, ypoints)\n",
    "plt.show()"
   ],
   "metadata": {
    "collapsed": false,
    "ExecuteTime": {
     "end_time": "2024-01-29T10:26:51.604882600Z",
     "start_time": "2024-01-29T10:26:50.433110500Z"
    }
   },
   "id": "a319bea48ee7417",
   "execution_count": 28
  }
 ],
 "metadata": {
  "kernelspec": {
   "display_name": "Python 3",
   "language": "python",
   "name": "python3"
  },
  "language_info": {
   "codemirror_mode": {
    "name": "ipython",
    "version": 2
   },
   "file_extension": ".py",
   "mimetype": "text/x-python",
   "name": "python",
   "nbconvert_exporter": "python",
   "pygments_lexer": "ipython2",
   "version": "2.7.6"
  }
 },
 "nbformat": 4,
 "nbformat_minor": 5
}
